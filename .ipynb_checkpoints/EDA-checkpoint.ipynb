{
 "cells": [
  {
   "cell_type": "code",
   "execution_count": 1,
   "metadata": {
    "_cell_guid": "b1076dfc-b9ad-4769-8c92-a6c4dae69d19",
    "_uuid": "8f2839f25d086af736a60e9eeb907d3b93b6e0e5"
   },
   "outputs": [
    {
     "ename": "ModuleNotFoundError",
     "evalue": "No module named 'wordcloud'",
     "output_type": "error",
     "traceback": [
      "\u001b[0;31m---------------------------------------------------------------------------\u001b[0m",
      "\u001b[0;31mModuleNotFoundError\u001b[0m                       Traceback (most recent call last)",
      "\u001b[0;32m<ipython-input-1-10e80265523c>\u001b[0m in \u001b[0;36m<module>\u001b[0;34m\u001b[0m\n\u001b[1;32m      8\u001b[0m \u001b[0;32mimport\u001b[0m \u001b[0mmatplotlib\u001b[0m\u001b[0;34m.\u001b[0m\u001b[0mpyplot\u001b[0m \u001b[0;32mas\u001b[0m \u001b[0mplt\u001b[0m\u001b[0;34m\u001b[0m\u001b[0;34m\u001b[0m\u001b[0m\n\u001b[1;32m      9\u001b[0m \u001b[0;32mimport\u001b[0m \u001b[0mseaborn\u001b[0m \u001b[0;32mas\u001b[0m \u001b[0msns\u001b[0m\u001b[0;34m\u001b[0m\u001b[0;34m\u001b[0m\u001b[0m\n\u001b[0;32m---> 10\u001b[0;31m \u001b[0;32mfrom\u001b[0m \u001b[0mwordcloud\u001b[0m \u001b[0;32mimport\u001b[0m \u001b[0mWordCloud\u001b[0m\u001b[0;34m\u001b[0m\u001b[0;34m\u001b[0m\u001b[0m\n\u001b[0m\u001b[1;32m     11\u001b[0m \u001b[0;32mimport\u001b[0m \u001b[0mmatplotlib\u001b[0m\u001b[0;34m.\u001b[0m\u001b[0mpyplot\u001b[0m \u001b[0;32mas\u001b[0m \u001b[0mplt\u001b[0m\u001b[0;34m\u001b[0m\u001b[0;34m\u001b[0m\u001b[0m\n",
      "\u001b[0;31mModuleNotFoundError\u001b[0m: No module named 'wordcloud'"
     ]
    }
   ],
   "source": [
    "import numpy as np\n",
    "import pandas as pd \n",
    "import string\n",
    "\n",
    "import nltk\n",
    "from nltk.corpus import stopwords\n",
    "\n",
    "import matplotlib.pyplot as plt\n",
    "import seaborn as sns\n",
    "from wordcloud import WordCloud\n",
    "import matplotlib.pyplot as plt"
   ]
  },
  {
   "cell_type": "code",
   "execution_count": null,
   "metadata": {
    "_cell_guid": "79c7e3d0-c299-4dcb-8224-4455121ee9b0",
    "_uuid": "d629ff2d2480ee46fbb7e2d37f6b5fab8052498a"
   },
   "outputs": [],
   "source": [
    "df = pd.read_csv(\"../input/amazon-fine-food-reviews/Reviews.csv\")\n",
    "df.head()"
   ]
  },
  {
   "cell_type": "code",
   "execution_count": null,
   "metadata": {},
   "outputs": [],
   "source": [
    "df.describe()"
   ]
  },
  {
   "cell_type": "code",
   "execution_count": null,
   "metadata": {},
   "outputs": [],
   "source": [
    "df.Score.value_counts()"
   ]
  },
  {
   "cell_type": "code",
   "execution_count": null,
   "metadata": {},
   "outputs": [],
   "source": [
    "sns.countplot(x='Score', data=df, palette='RdBu')\n",
    "plt.xlabel('Score (Rating)')\n",
    "plt.show()"
   ]
  },
  {
   "cell_type": "markdown",
   "metadata": {},
   "source": [
    "5-star reviews constitute a large proportion (64%) of all reviews. The next most prevalent rating is 4-stars(14%), followed by 1-star (9%), 3-star (8%), and finally 2-star reviews (5%)."
   ]
  },
  {
   "cell_type": "code",
   "execution_count": null,
   "metadata": {},
   "outputs": [],
   "source": [
    "temp_df = df[['UserId','HelpfulnessNumerator','HelpfulnessDenominator', 'Summary', 'Text','Score']].copy()\n",
    "temp_df[\"Sentiment\"] = temp_df[\"Score\"].apply(lambda score: \"positive\" if score > 3 else (\"negative\" if score < 3 else \"not defined\"))\n",
    "temp_df[\"Usefulness\"] = (temp_df[\"HelpfulnessNumerator\"] / temp_df[\"HelpfulnessDenominator\"]).apply\\\n",
    "(lambda n: \">75%\" if n > 0.75 else (\"<25%\" if n < 0.25 else (\"25-75%\" if n >= 0.25 and n <= 0.75 else \"useless\")))\n",
    "temp_df.loc[temp_df.HelpfulnessDenominator == 0, 'Usefulness'] = \"useless\"\n",
    "temp_df.head()"
   ]
  },
  {
   "cell_type": "code",
   "execution_count": null,
   "metadata": {},
   "outputs": [],
   "source": [
    "sns.countplot(x='Sentiment', order=[\"positive\", \"negative\"], data=temp_df, palette='RdBu')\n",
    "plt.xlabel('Sentiment')\n",
    "plt.show()"
   ]
  },
  {
   "cell_type": "code",
   "execution_count": null,
   "metadata": {},
   "outputs": [],
   "source": [
    "pos = temp_df.loc[temp_df['Sentiment'] == 'positive']\n",
    "pos = pos[:1000]\n",
    "neg = temp_df.loc[temp_df['Sentiment'] == 'negative']\n",
    "neg = neg[:1000]"
   ]
  },
  {
   "cell_type": "code",
   "execution_count": null,
   "metadata": {},
   "outputs": [],
   "source": [
    "def create_Word_Corpus(temp):\n",
    "    words_corpus = ''\n",
    "    for val in temp[\"Summary\"]:\n",
    "        text = str(val).lower()\n",
    "        #text = text.translate(trantab)\n",
    "        tokens = nltk.word_tokenize(text)\n",
    "        tokens = [word for word in tokens if word not in stopwords.words('english')]\n",
    "        for words in tokens:\n",
    "            words_corpus = words_corpus + words + ' '\n",
    "    return words_corpus"
   ]
  },
  {
   "cell_type": "code",
   "execution_count": null,
   "metadata": {},
   "outputs": [],
   "source": [
    "pos_wordcloud = WordCloud(width=900, height=500).generate(create_Word_Corpus(pos))\n",
    "neg_wordcloud = WordCloud(width=900, height=500).generate(create_Word_Corpus(neg))"
   ]
  },
  {
   "cell_type": "code",
   "execution_count": null,
   "metadata": {},
   "outputs": [],
   "source": [
    "def plot_Cloud(wordCloud):\n",
    "    plt.figure( figsize=(20,10), facecolor='w')\n",
    "    plt.imshow(wordCloud)\n",
    "    plt.axis(\"off\")\n",
    "    plt.tight_layout(pad=0)\n",
    "    plt.show()"
   ]
  },
  {
   "cell_type": "code",
   "execution_count": null,
   "metadata": {},
   "outputs": [],
   "source": [
    "plot_Cloud(pos_wordcloud)"
   ]
  },
  {
   "cell_type": "code",
   "execution_count": null,
   "metadata": {},
   "outputs": [],
   "source": [
    "plot_Cloud(neg_wordcloud)"
   ]
  },
  {
   "cell_type": "code",
   "execution_count": null,
   "metadata": {},
   "outputs": [],
   "source": [
    "temp_df.Usefulness.value_counts()"
   ]
  },
  {
   "cell_type": "code",
   "execution_count": null,
   "metadata": {},
   "outputs": [],
   "source": [
    "sns.countplot(x='Usefulness', order=['useless', '>75%', '25-75%', '<25%'], data=temp_df)\n",
    "plt.xlabel('Usefulness')\n",
    "plt.show()"
   ]
  },
  {
   "cell_type": "code",
   "execution_count": null,
   "metadata": {},
   "outputs": [],
   "source": [
    "sns.countplot(x='Sentiment', hue='Usefulness', order=[\"positive\", \"negative\"],hue_order=['>75%', '25-75%', '<25%'], data=temp_df)\n",
    "plt.xlabel('Sentiment')\n",
    "plt.show()"
   ]
  },
  {
   "cell_type": "code",
   "execution_count": null,
   "metadata": {},
   "outputs": [],
   "source": [
    "temp_df[\"text_word_count\"] = temp_df[\"Text\"].apply(lambda text: len(text.split()))\n",
    "sns.boxplot(x='Score',y='text_word_count', data=temp_df, showfliers=False)\n",
    "plt.show()"
   ]
  },
  {
   "cell_type": "code",
   "execution_count": null,
   "metadata": {},
   "outputs": [],
   "source": [
    "sns.violinplot(x='Usefulness', y='text_word_count', order=[\">75%\", \"<25%\"], data=temp_df)\n",
    "plt.ylim(-50, 400)\n",
    "plt.show()"
   ]
  },
  {
   "cell_type": "code",
   "execution_count": null,
   "metadata": {},
   "outputs": [],
   "source": [
    "x = temp_df.UserId.value_counts()\n",
    "x.to_dict()\n",
    "temp_df[\"reviewer_freq\"] = temp_df[\"UserId\"].apply(lambda counts: \"Frequent (>50 reviews)\" if x[counts]>50 else \"Not Frequent (1-50)\")"
   ]
  },
  {
   "cell_type": "code",
   "execution_count": null,
   "metadata": {},
   "outputs": [],
   "source": [
    "ax = sns.countplot(x='Score', hue='reviewer_freq', data=temp_df)\n",
    "ax.set_xlabel('Score (Rating)')\n",
    "plt.show()"
   ]
  },
  {
   "cell_type": "code",
   "execution_count": null,
   "metadata": {},
   "outputs": [],
   "source": [
    "y = temp_df[temp_df.reviewer_freq==\"Frequent (>50 reviews)\"].Score.value_counts()\n",
    "z = temp_df[temp_df.reviewer_freq==\"Not Frequent (1-50)\"].Score.value_counts()\n",
    "tot_y = y.sum()\n",
    "y = (y/tot_y)*100\n",
    "tot_z = z.sum()\n",
    "z = (z/tot_z)*100"
   ]
  },
  {
   "cell_type": "code",
   "execution_count": null,
   "metadata": {},
   "outputs": [],
   "source": [
    "ax1 = plt.subplot(131)\n",
    "y.plot(kind=\"bar\",ax=ax1)\n",
    "plt.xlabel(\"Score\")\n",
    "plt.ylabel(\"Percentage\")\n",
    "plt.title(\"Frequent (>50 reviews) Distribution\")\n",
    "\n",
    "ax2 = plt.subplot(133)\n",
    "z.plot(kind=\"bar\",ax=ax2)\n",
    "plt.xlabel(\"Score\")\n",
    "plt.ylabel(\"Percentage\")\n",
    "plt.title(\"Not Frequent (1-50) Distribution\")\n",
    "plt.show()"
   ]
  },
  {
   "cell_type": "code",
   "execution_count": null,
   "metadata": {},
   "outputs": [],
   "source": [
    "sns.countplot(x='Usefulness', order=['useless', '>75%', '25-75%', '<25%'], hue='reviewer_freq', data=temp_df)\n",
    "plt.xlabel('Helpfulness')\n",
    "plt.show()"
   ]
  },
  {
   "cell_type": "code",
   "execution_count": null,
   "metadata": {},
   "outputs": [],
   "source": [
    "sns.violinplot(x='reviewer_freq', y='text_word_count', data=temp_df, palette='RdBu')\n",
    "plt.xlabel('Frequency of Reviewer')\n",
    "plt.ylim(-50, 400)\n",
    "plt.show()"
   ]
  },
  {
   "cell_type": "markdown",
   "metadata": {},
   "source": [
    "* Positive reviews are very common.\n",
    "* Positive reviews are shorter.\n",
    "* Longer reviews are more helpful.\n",
    "* Despite being more common and shorter, positive reviews are found more helpful.\n",
    "* Frequent reviewers are more discerning in their ratings, write longer reviews, and write more helpful reviews"
   ]
  },
  {
   "cell_type": "code",
   "execution_count": null,
   "metadata": {},
   "outputs": [],
   "source": []
  }
 ],
 "metadata": {
  "kernelspec": {
   "display_name": "Python 3",
   "language": "python",
   "name": "python3"
  },
  "language_info": {
   "codemirror_mode": {
    "name": "ipython",
    "version": 3
   },
   "file_extension": ".py",
   "mimetype": "text/x-python",
   "name": "python",
   "nbconvert_exporter": "python",
   "pygments_lexer": "ipython3",
   "version": "3.7.6"
  }
 },
 "nbformat": 4,
 "nbformat_minor": 4
}
