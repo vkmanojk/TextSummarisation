{
 "cells": [
  {
   "cell_type": "code",
   "execution_count": 1,
   "metadata": {
    "_cell_guid": "b1076dfc-b9ad-4769-8c92-a6c4dae69d19",
    "_uuid": "8f2839f25d086af736a60e9eeb907d3b93b6e0e5"
   },
   "outputs": [],
   "source": [
    "import pandas as pd \n",
    "from matplotlib import pyplot as plt\n",
    "\n",
    "import re\n",
    "from nltk.corpus import stopwords\n",
    "from nltk.tokenize import word_tokenize\n",
    "from nltk.translate.bleu_score import sentence_bleu\n",
    "from nltk.translate.bleu_score import SmoothingFunction\n",
    "from rouge_score import rouge_scorer\n",
    "from sumy.parsers.plaintext import PlaintextParser\n",
    "from sumy.nlp.tokenizers import Tokenizer\n",
    "from sumy.nlp.stemmers import Stemmer\n",
    "from sumy.utils import get_stop_words\n",
    "\n",
    "from sumy.summarizers.lex_rank import LexRankSummarizer \n",
    "from sumy.summarizers.luhn import LuhnSummarizer\n",
    "from sumy.summarizers.lsa import LsaSummarizer\n",
    "from sumy.summarizers.text_rank import TextRankSummarizer\n",
    "from sumy.summarizers.edmundson import EdmundsonSummarizer\n",
    "from sumy.summarizers.sum_basic import SumBasicSummarizer\n",
    "from sumy.summarizers.kl import KLSummarizer\n",
    "from sumy.summarizers.reduction import ReductionSummarizer"
   ]
  },
  {
   "cell_type": "code",
   "execution_count": 2,
   "metadata": {
    "_cell_guid": "79c7e3d0-c299-4dcb-8224-4455121ee9b0",
    "_uuid": "d629ff2d2480ee46fbb7e2d37f6b5fab8052498a"
   },
   "outputs": [
    {
     "data": {
      "text/html": [
       "<div>\n",
       "<style scoped>\n",
       "    .dataframe tbody tr th:only-of-type {\n",
       "        vertical-align: middle;\n",
       "    }\n",
       "\n",
       "    .dataframe tbody tr th {\n",
       "        vertical-align: top;\n",
       "    }\n",
       "\n",
       "    .dataframe thead th {\n",
       "        text-align: right;\n",
       "    }\n",
       "</style>\n",
       "<table border=\"1\" class=\"dataframe\">\n",
       "  <thead>\n",
       "    <tr style=\"text-align: right;\">\n",
       "      <th></th>\n",
       "      <th>ProductId</th>\n",
       "      <th>UserId</th>\n",
       "      <th>ProfileName</th>\n",
       "      <th>HelpfulnessNumerator</th>\n",
       "      <th>HelpfulnessDenominator</th>\n",
       "      <th>Score</th>\n",
       "      <th>Time</th>\n",
       "      <th>Summary</th>\n",
       "      <th>Text</th>\n",
       "    </tr>\n",
       "    <tr>\n",
       "      <th>Id</th>\n",
       "      <th></th>\n",
       "      <th></th>\n",
       "      <th></th>\n",
       "      <th></th>\n",
       "      <th></th>\n",
       "      <th></th>\n",
       "      <th></th>\n",
       "      <th></th>\n",
       "      <th></th>\n",
       "    </tr>\n",
       "  </thead>\n",
       "  <tbody>\n",
       "    <tr>\n",
       "      <th>1</th>\n",
       "      <td>B001E4KFG0</td>\n",
       "      <td>A3SGXH7AUHU8GW</td>\n",
       "      <td>delmartian</td>\n",
       "      <td>1</td>\n",
       "      <td>1</td>\n",
       "      <td>5</td>\n",
       "      <td>1303862400</td>\n",
       "      <td>Good Quality Dog Food</td>\n",
       "      <td>I have bought several of the Vitality canned d...</td>\n",
       "    </tr>\n",
       "    <tr>\n",
       "      <th>2</th>\n",
       "      <td>B00813GRG4</td>\n",
       "      <td>A1D87F6ZCVE5NK</td>\n",
       "      <td>dll pa</td>\n",
       "      <td>0</td>\n",
       "      <td>0</td>\n",
       "      <td>1</td>\n",
       "      <td>1346976000</td>\n",
       "      <td>Not as Advertised</td>\n",
       "      <td>Product arrived labeled as Jumbo Salted Peanut...</td>\n",
       "    </tr>\n",
       "  </tbody>\n",
       "</table>\n",
       "</div>"
      ],
      "text/plain": [
       "     ProductId          UserId ProfileName  HelpfulnessNumerator  \\\n",
       "Id                                                                 \n",
       "1   B001E4KFG0  A3SGXH7AUHU8GW  delmartian                     1   \n",
       "2   B00813GRG4  A1D87F6ZCVE5NK      dll pa                     0   \n",
       "\n",
       "    HelpfulnessDenominator  Score        Time                Summary  \\\n",
       "Id                                                                     \n",
       "1                        1      5  1303862400  Good Quality Dog Food   \n",
       "2                        0      1  1346976000      Not as Advertised   \n",
       "\n",
       "                                                 Text  \n",
       "Id                                                     \n",
       "1   I have bought several of the Vitality canned d...  \n",
       "2   Product arrived labeled as Jumbo Salted Peanut...  "
      ]
     },
     "execution_count": 2,
     "metadata": {},
     "output_type": "execute_result"
    }
   ],
   "source": [
    "df = pd.read_csv('Reviews.csv', index_col = 'Id')[:10]\n",
    "df.head(2)"
   ]
  },
  {
   "cell_type": "code",
   "execution_count": 3,
   "metadata": {},
   "outputs": [],
   "source": [
    "df.dropna(inplace=True)\n",
    "# df.isnull().sum()"
   ]
  },
  {
   "cell_type": "code",
   "execution_count": 4,
   "metadata": {},
   "outputs": [
    {
     "data": {
      "text/html": [
       "<div>\n",
       "<style scoped>\n",
       "    .dataframe tbody tr th:only-of-type {\n",
       "        vertical-align: middle;\n",
       "    }\n",
       "\n",
       "    .dataframe tbody tr th {\n",
       "        vertical-align: top;\n",
       "    }\n",
       "\n",
       "    .dataframe thead th {\n",
       "        text-align: right;\n",
       "    }\n",
       "</style>\n",
       "<table border=\"1\" class=\"dataframe\">\n",
       "  <thead>\n",
       "    <tr style=\"text-align: right;\">\n",
       "      <th></th>\n",
       "      <th>Review</th>\n",
       "      <th>Summary</th>\n",
       "    </tr>\n",
       "  </thead>\n",
       "  <tbody>\n",
       "    <tr>\n",
       "      <th>0</th>\n",
       "      <td>I have bought several of the Vitality canned d...</td>\n",
       "      <td>Good Quality Dog Food</td>\n",
       "    </tr>\n",
       "    <tr>\n",
       "      <th>1</th>\n",
       "      <td>Product arrived labeled as Jumbo Salted Peanut...</td>\n",
       "      <td>Not as Advertised</td>\n",
       "    </tr>\n",
       "    <tr>\n",
       "      <th>2</th>\n",
       "      <td>This is a confection that has been around a fe...</td>\n",
       "      <td>\"Delight\" says it all</td>\n",
       "    </tr>\n",
       "  </tbody>\n",
       "</table>\n",
       "</div>"
      ],
      "text/plain": [
       "                                              Review                Summary\n",
       "0  I have bought several of the Vitality canned d...  Good Quality Dog Food\n",
       "1  Product arrived labeled as Jumbo Salted Peanut...      Not as Advertised\n",
       "2  This is a confection that has been around a fe...  \"Delight\" says it all"
      ]
     },
     "execution_count": 4,
     "metadata": {},
     "output_type": "execute_result"
    }
   ],
   "source": [
    "reviews = pd.DataFrame({\n",
    "    'Review':df['Text'].values, \n",
    "    'Summary':df['Summary'].values})\n",
    "reviews.head(3)"
   ]
  },
  {
   "cell_type": "code",
   "execution_count": 5,
   "metadata": {},
   "outputs": [],
   "source": [
    "contractions = { \n",
    "    \"ain't\": \"am not\",\n",
    "    \"aren't\": \"are not\",\n",
    "    \"can't\": \"cannot\",\n",
    "    \"can't've\": \"cannot have\",\n",
    "    \"'cause\": \"because\",\n",
    "    \"could've\": \"could have\",\n",
    "    \"couldn't\": \"could not\",\n",
    "    \"couldn't've\": \"could not have\",\n",
    "    \"didn't\": \"did not\",\n",
    "    \"doesn't\": \"does not\",\n",
    "    \"don't\": \"do not\",\n",
    "    \"hadn't\": \"had not\",\n",
    "    \"hadn't've\": \"had not have\",\n",
    "    \"hasn't\": \"has not\",\n",
    "    \"haven't\": \"have not\",\n",
    "    \"he'd\": \"he would\",\n",
    "    \"he'd've\": \"he would have\",\n",
    "    \"he'll\": \"he will\",\n",
    "    \"he's\": \"he is\",\n",
    "    \"how'd\": \"how did\",\n",
    "    \"how'll\": \"how will\",\n",
    "    \"how's\": \"how is\",\n",
    "    \"i'd\": \"i would\",\n",
    "    \"i'll\": \"i will\",\n",
    "    \"i'm\": \"i am\",\n",
    "    \"i've\": \"i have\",\n",
    "    \"isn't\": \"is not\",\n",
    "    \"it'd\": \"it would\",\n",
    "    \"it'll\": \"it will\",\n",
    "    \"it's\": \"it is\",\n",
    "    \"let's\": \"let us\",\n",
    "    \"ma'am\": \"madam\",\n",
    "    \"mayn't\": \"may not\",\n",
    "    \"might've\": \"might have\",\n",
    "    \"mightn't\": \"might not\",\n",
    "    \"must've\": \"must have\",\n",
    "    \"mustn't\": \"must not\",\n",
    "    \"needn't\": \"need not\",\n",
    "    \"oughtn't\": \"ought not\",\n",
    "    \"shan't\": \"shall not\",\n",
    "    \"sha'n't\": \"shall not\",\n",
    "    \"she'd\": \"she would\",\n",
    "    \"she'll\": \"she will\",\n",
    "    \"she's\": \"she is\",\n",
    "    \"should've\": \"should have\",\n",
    "    \"shouldn't\": \"should not\",\n",
    "    \"that'd\": \"that would\",\n",
    "    \"that's\": \"that is\",\n",
    "    \"there'd\": \"there had\",\n",
    "    \"there's\": \"there is\",\n",
    "    \"they'd\": \"they would\",\n",
    "    \"they'll\": \"they will\",\n",
    "    \"they're\": \"they are\",\n",
    "    \"they've\": \"they have\",\n",
    "    \"wasn't\": \"was not\",\n",
    "    \"we'd\": \"we would\",\n",
    "    \"we'll\": \"we will\",\n",
    "    \"we're\": \"we are\",\n",
    "    \"we've\": \"we have\",\n",
    "    \"weren't\": \"were not\",\n",
    "    \"what'll\": \"what will\",\n",
    "    \"what're\": \"what are\",\n",
    "    \"what's\": \"what is\",\n",
    "    \"what've\": \"what have\",\n",
    "    \"where'd\": \"where did\",\n",
    "    \"where's\": \"where is\",\n",
    "    \"who'll\": \"who will\",\n",
    "    \"who's\": \"who is\",\n",
    "    \"won't\": \"will not\",\n",
    "    \"wouldn't\": \"would not\",\n",
    "    \"you'd\": \"you would\",\n",
    "    \"you'll\": \"you will\",\n",
    "    \"you're\": \"you are\"\n",
    "}"
   ]
  },
  {
   "cell_type": "code",
   "execution_count": 6,
   "metadata": {},
   "outputs": [],
   "source": [
    "def clean_text(text, remove_stopwords = True):\n",
    "    text = text.lower().split()\n",
    "    new_text = []\n",
    "    for word in text:\n",
    "        if word in contractions:\n",
    "            new_text.append(contractions[word])\n",
    "        else:\n",
    "            new_text.append(word)\n",
    "    text = \" \".join(new_text)\n",
    "    \n",
    "    text = re.sub(r'https?:\\/\\/.*[\\r\\n]*', '', text, flags=re.MULTILINE)\n",
    "    text = re.sub(r'\\<a href', ' ', text)\n",
    "    text = re.sub(r'&amp;', '', text) \n",
    "    text = re.sub(r'\\.+', \".\", text)\n",
    "    text = re.sub(r'[_\"\\-;%()|+&=*%,!?:#$@\\[\\]/]', ' ', text)\n",
    "    text = re.sub(r'<br>', ' ', text)\n",
    "    text = re.sub(r'<br />', ' ', text)\n",
    "    text = re.sub(r'\\'', ' ', text)\n",
    "    \n",
    "    if remove_stopwords:\n",
    "        text = text.split()\n",
    "        stops = set(stopwords.words(\"english\"))\n",
    "        text = [w for w in text if not w in stops]\n",
    "        text = \" \".join(text)\n",
    "        \n",
    "    return text"
   ]
  },
  {
   "cell_type": "code",
   "execution_count": 7,
   "metadata": {},
   "outputs": [
    {
     "name": "stdout",
     "output_type": "stream",
     "text": [
      "Cleaned summaries\n",
      "Cleaned Reviews\n"
     ]
    }
   ],
   "source": [
    "clean_summaries = []\n",
    "for summary in reviews['Summary']:\n",
    "    clean_summaries.append(clean_text(summary, remove_stopwords=False))\n",
    "print(\"Cleaned summaries\")\n",
    "\n",
    "clean_texts = []\n",
    "for text in reviews['Review']:\n",
    "    clean_texts.append(clean_text(text))\n",
    "print(\"Cleaned Reviews\")"
   ]
  },
  {
   "cell_type": "code",
   "execution_count": 8,
   "metadata": {},
   "outputs": [
    {
     "name": "stdout",
     "output_type": "stream",
     "text": [
      "Clean Review # 1\n",
      "bought several vitality canned dog food products found good quality. product looks like stew processed meat smells better. labrador finicky appreciates product better most.\n",
      "Summary\n",
      "good quality dog food\n",
      "\n",
      "Clean Review # 2\n",
      "product arrived labeled jumbo salted peanuts.the peanuts actually small sized unsalted. sure error vendor intended represent product jumbo .\n",
      "Summary\n",
      "not as advertised\n",
      "\n"
     ]
    }
   ],
   "source": [
    "for i in range(2):\n",
    "    print(\"Clean Review #\",i+1)\n",
    "    print(clean_texts[i])\n",
    "    print(\"Summary\")\n",
    "    print(clean_summaries[i])\n",
    "    print()"
   ]
  },
  {
   "cell_type": "code",
   "execution_count": 9,
   "metadata": {},
   "outputs": [],
   "source": [
    "# trainData = reviews.iloc[:int(len(reviews) * 0.8)]\n",
    "# testData = reviews.iloc[int(len(reviews) * 0.8):]\n",
    "\n",
    "# trainX = trainData['Review'].values\n",
    "# trainy = trainData['Summary'].values\n",
    "# testX = testData['Review'].values\n",
    "# testy = testData['Summary'].values"
   ]
  },
  {
   "cell_type": "code",
   "execution_count": 10,
   "metadata": {},
   "outputs": [],
   "source": [
    "language = 'english'\n",
    "sentence_count = 1\n",
    "sw = stopwords.words('english') "
   ]
  },
  {
   "cell_type": "code",
   "execution_count": 11,
   "metadata": {},
   "outputs": [],
   "source": [
    "def cosine(X, Y):\n",
    "    X_list = word_tokenize(X)  \n",
    "    Y_list = word_tokenize(Y)  \n",
    "    l1 =[]\n",
    "    l2 =[] \n",
    "    X_set = {w for w in X_list if not w in sw}  \n",
    "    Y_set = {w for w in Y_list if not w in sw} \n",
    "    rvector = X_set.union(Y_set)  \n",
    "    for w in rvector: \n",
    "        if w in X_set: \n",
    "            l1.append(1)  \n",
    "        else: \n",
    "            l1.append(0) \n",
    "        if w in Y_set: \n",
    "            l2.append(1) \n",
    "        else: \n",
    "            l2.append(0)\n",
    "    c = 0\n",
    "    for i in range(len(rvector)): \n",
    "            c += l1[i] * l2[i] \n",
    "    temp = float((sum(l1)*sum(l2))**0.5)\n",
    "    if float((sum(l1)*sum(l2))**0.5) == 0:\n",
    "        temp = -float(\"inf\")\n",
    "    cosine = c / temp\n",
    "    return cosine"
   ]
  },
  {
   "cell_type": "markdown",
   "metadata": {},
   "source": [
    "## LexRank"
   ]
  },
  {
   "cell_type": "code",
   "execution_count": 12,
   "metadata": {},
   "outputs": [],
   "source": [
    "summarizer1 = LexRankSummarizer(Stemmer(language))\n",
    "summarizer1.stopwords = get_stop_words(language)\n",
    "lexRankSummary = []\n",
    "for i in range(len(clean_texts)):\n",
    "    parser = PlaintextParser(clean_texts[i], Tokenizer(language))\n",
    "    lexRankSummary.append(summarizer1(parser.document, sentence_count))"
   ]
  },
  {
   "cell_type": "code",
   "execution_count": 13,
   "metadata": {},
   "outputs": [],
   "source": [
    "lexRankCosine = 0\n",
    "for i in range(len(clean_summaries)):\n",
    "    for sentence in lexRankSummary[i]:\n",
    "        lexRankCosine += cosine(clean_summaries[i], str(sentence))\n",
    "lexRankCosine = lexRankCosine/len(clean_summaries)"
   ]
  },
  {
   "cell_type": "code",
   "execution_count": 14,
   "metadata": {},
   "outputs": [
    {
     "data": {
      "text/plain": [
       "0.5856832811632016"
      ]
     },
     "execution_count": 14,
     "metadata": {},
     "output_type": "execute_result"
    }
   ],
   "source": [
    "lexRankBLEU = 0\n",
    "for i in range(len(clean_summaries)):\n",
    "    for sentence in lexRankSummary[i]:\n",
    "        lexRankBLEU += sentence_bleu([word_tokenize(clean_summaries[i])], word_tokenize(str(sentence)), \n",
    "                                    smoothing_function=SmoothingFunction().method4)\n",
    "lexRankBLEU = lexRankBLEU/len(clean_summaries)\n",
    "lexRankBLEU"
   ]
  },
  {
   "cell_type": "code",
   "execution_count": 15,
   "metadata": {},
   "outputs": [
    {
     "data": {
      "text/plain": [
       "0.3458333333333333"
      ]
     },
     "execution_count": 15,
     "metadata": {},
     "output_type": "execute_result"
    }
   ],
   "source": [
    "lexRankRouge = 0\n",
    "scorer = rouge_scorer.RougeScorer(['rougeL'], use_stemmer=True)\n",
    "for i in range(len(clean_summaries)):\n",
    "    for sentence in lexRankSummary[i]:\n",
    "        lexRankRouge += scorer.score(clean_summaries[i], str(sentence))['rougeL'][1]\n",
    "lexRankRouge = lexRankRouge / len(clean_summaries)\n",
    "lexRankRouge"
   ]
  },
  {
   "cell_type": "markdown",
   "metadata": {},
   "source": [
    "## Luhn"
   ]
  },
  {
   "cell_type": "code",
   "execution_count": 16,
   "metadata": {},
   "outputs": [],
   "source": [
    "summarizer2 = LuhnSummarizer(Stemmer(language))\n",
    "summarizer2.stop_words = get_stop_words(language)\n",
    "luhnSummary = []\n",
    "for i in range(len(clean_texts)):\n",
    "    parser = PlaintextParser.from_string(clean_texts[i], Tokenizer(language))\n",
    "    luhnSummary.append(summarizer2(parser.document, sentence_count))"
   ]
  },
  {
   "cell_type": "code",
   "execution_count": 17,
   "metadata": {},
   "outputs": [],
   "source": [
    "luhnCosine = 0\n",
    "for i in range(len(clean_summaries)):\n",
    "    for sentence in luhnSummary[i]:\n",
    "        luhnCosine += cosine(clean_summaries[i], str(sentence))\n",
    "luhnCosine = luhnCosine/len(clean_summaries)"
   ]
  },
  {
   "cell_type": "code",
   "execution_count": 18,
   "metadata": {},
   "outputs": [],
   "source": [
    "luhnBLEU = 0\n",
    "for i in range(len(clean_summaries)):\n",
    "    for sentence in luhnSummary[i]:\n",
    "        luhnBLEU += sentence_bleu([word_tokenize(clean_summaries[i])], word_tokenize(str(sentence)), \n",
    "                                    smoothing_function=SmoothingFunction().method4)\n",
    "luhnBLEU = luhnBLEU / len(clean_summaries)"
   ]
  },
  {
   "cell_type": "code",
   "execution_count": 19,
   "metadata": {},
   "outputs": [],
   "source": [
    "luhnRouge = 0\n",
    "scorer = rouge_scorer.RougeScorer(['rougeL'], use_stemmer=True)\n",
    "for i in range(len(clean_summaries)):\n",
    "    for sentence in luhnSummary[i]:\n",
    "        luhnRouge += scorer.score(clean_summaries[i], str(sentence))['rougeL'][1]\n",
    "luhnRouge = luhnRouge / len(clean_summaries)"
   ]
  },
  {
   "cell_type": "markdown",
   "metadata": {},
   "source": [
    "## LSA"
   ]
  },
  {
   "cell_type": "code",
   "execution_count": 20,
   "metadata": {},
   "outputs": [],
   "source": [
    "summarizer3 = LsaSummarizer(Stemmer(language))\n",
    "summarizer3.stop_words = get_stop_words(language)\n",
    "lsaSummary = []\n",
    "for i in range(len(clean_texts)):\n",
    "    parser = PlaintextParser.from_string(clean_texts[i], Tokenizer(language))\n",
    "    lsaSummary.append(summarizer3(parser.document, sentence_count))"
   ]
  },
  {
   "cell_type": "code",
   "execution_count": 21,
   "metadata": {},
   "outputs": [],
   "source": [
    "lsaCosine = 0\n",
    "for i in range(len(clean_summaries)):\n",
    "    for sentence in lsaSummary[i]:\n",
    "        lsaCosine += cosine(clean_summaries[i], str(sentence))\n",
    "lsaCosine = lsaCosine/len(clean_summaries)"
   ]
  },
  {
   "cell_type": "code",
   "execution_count": 22,
   "metadata": {},
   "outputs": [],
   "source": [
    "lsaBLEU = 0\n",
    "for i in range(len(clean_summaries)):\n",
    "    for sentence in lsaSummary[i]:\n",
    "        lsaBLEU += sentence_bleu([word_tokenize(clean_summaries[i])], word_tokenize(str(sentence)), \n",
    "                                    smoothing_function=SmoothingFunction().method4)\n",
    "lsaBLEU = lsaBLEU / len(clean_summaries)"
   ]
  },
  {
   "cell_type": "code",
   "execution_count": 47,
   "metadata": {},
   "outputs": [],
   "source": [
    "lsaRouge = 0\n",
    "scorer = rouge_scorer.RougeScorer(['rougeL'], use_stemmer=True)\n",
    "for i in range(len(clean_summaries)):\n",
    "    for sentence in lsaSummary[i]:\n",
    "        lsaRouge += scorer.score(clean_summaries[i], str(sentence))['rougeL'][1]\n",
    "lsaRouge = lsaRouge / len(clean_summaries)"
   ]
  },
  {
   "cell_type": "markdown",
   "metadata": {},
   "source": [
    "## TextRankSummarizer"
   ]
  },
  {
   "cell_type": "code",
   "execution_count": 24,
   "metadata": {},
   "outputs": [],
   "source": [
    "summarizer4 = TextRankSummarizer(Stemmer(language))\n",
    "summarizer4.stop_words = get_stop_words(language)\n",
    "textRankSummary = []\n",
    "for i in range(len(clean_texts)):\n",
    "    parser = PlaintextParser.from_string(clean_texts[i], Tokenizer(language))\n",
    "    textRankSummary.append(summarizer4(parser.document, sentence_count))"
   ]
  },
  {
   "cell_type": "code",
   "execution_count": 25,
   "metadata": {},
   "outputs": [],
   "source": [
    "textRankCosine = 0\n",
    "for i in range(len(clean_summaries)):\n",
    "    for sentence in textRankSummary[i]:\n",
    "        textRankCosine += cosine(clean_summaries[i], str(sentence))\n",
    "textRankCosine = textRankCosine/len(clean_summaries)"
   ]
  },
  {
   "cell_type": "code",
   "execution_count": 26,
   "metadata": {},
   "outputs": [],
   "source": [
    "textRankBLEU = 0\n",
    "for i in range(len(clean_summaries)):\n",
    "    for sentence in textRankSummary[i]:\n",
    "        textRankBLEU += sentence_bleu([word_tokenize(clean_summaries[i])], word_tokenize(str(sentence)), \n",
    "                                    smoothing_function=SmoothingFunction().method4)\n",
    "textRankBLEU = textRankBLEU / len(clean_summaries)"
   ]
  },
  {
   "cell_type": "code",
   "execution_count": 27,
   "metadata": {},
   "outputs": [],
   "source": [
    "textRankRouge = 0\n",
    "scorer = rouge_scorer.RougeScorer(['rougeL'], use_stemmer=True)\n",
    "for i in range(len(clean_summaries)):\n",
    "    for sentence in textRankSummary[i]:\n",
    "        lsaRouge += scorer.score(clean_summaries[i], str(sentence))['rougeL'][1]\n",
    "textRankRouge = textRankRouge / len(clean_summaries)"
   ]
  },
  {
   "cell_type": "markdown",
   "metadata": {},
   "source": [
    "## Edmundson"
   ]
  },
  {
   "cell_type": "code",
   "execution_count": 28,
   "metadata": {},
   "outputs": [],
   "source": [
    "summarizer5 = EdmundsonSummarizer(Stemmer(language))\n",
    "summarizer5.stop_words = get_stop_words(language)\n",
    "edmundsonSummary = []\n",
    "for i in range(len(clean_texts)):\n",
    "    summarizer5.bonus_words = ['good'] + clean_texts[i].split()\n",
    "    summarizer5.stigma_words = ['bad', 'worst']\n",
    "    summarizer5.null_words = ['zdfgthdvndadv']\n",
    "    parser = PlaintextParser.from_string(clean_texts[i], Tokenizer(language))\n",
    "    edmundsonSummary.append(summarizer5(parser.document, sentence_count))"
   ]
  },
  {
   "cell_type": "code",
   "execution_count": 29,
   "metadata": {},
   "outputs": [],
   "source": [
    "edmundsonCosine = 0\n",
    "for i in range(len(clean_summaries)):\n",
    "    for sentence in edmundsonSummary[i]:\n",
    "        edmundsonCosine += cosine(clean_summaries[i], str(sentence))\n",
    "edmundsonCosine = edmundsonCosine/len(clean_summaries)"
   ]
  },
  {
   "cell_type": "code",
   "execution_count": 30,
   "metadata": {},
   "outputs": [],
   "source": [
    "edmundsonBLEU = 0\n",
    "for i in range(len(clean_summaries)):\n",
    "    for sentence in edmundsonSummary[i]:\n",
    "        edmundsonBLEU += sentence_bleu([word_tokenize(clean_summaries[i])], word_tokenize(str(sentence)), \n",
    "                                    smoothing_function=SmoothingFunction().method4)\n",
    "edmundsonBLEU = edmundsonBLEU / len(clean_summaries)"
   ]
  },
  {
   "cell_type": "code",
   "execution_count": 31,
   "metadata": {},
   "outputs": [],
   "source": [
    "edmundsonRouge = 0\n",
    "scorer = rouge_scorer.RougeScorer(['rougeL'], use_stemmer=True)\n",
    "for i in range(len(clean_summaries)):\n",
    "    for sentence in edmundsonSummary[i]:\n",
    "        edmundsonRouge += scorer.score(clean_summaries[i], str(sentence))['rougeL'][1]\n",
    "edmundsonRouge = edmundsonRouge / len(clean_summaries)"
   ]
  },
  {
   "cell_type": "markdown",
   "metadata": {},
   "source": [
    "## SumBasic"
   ]
  },
  {
   "cell_type": "code",
   "execution_count": 32,
   "metadata": {},
   "outputs": [],
   "source": [
    "summarizer6 = SumBasicSummarizer(Stemmer(language))\n",
    "summarizer6.stop_words = get_stop_words(language)\n",
    "sumBasicSummary = []\n",
    "for i in range(len(clean_texts)):\n",
    "    parser = PlaintextParser.from_string(clean_texts[i], Tokenizer(language))\n",
    "    sumBasicSummary.append(summarizer6(parser.document, sentence_count))"
   ]
  },
  {
   "cell_type": "code",
   "execution_count": 33,
   "metadata": {},
   "outputs": [],
   "source": [
    "sumBasicCosine = 0\n",
    "for i in range(len(clean_summaries)):\n",
    "    for sentence in sumBasicSummary[i]:\n",
    "        sumBasicCosine += cosine(clean_summaries[i], str(sentence))\n",
    "sumBasicCosine = sumBasicCosine/len(clean_summaries)"
   ]
  },
  {
   "cell_type": "code",
   "execution_count": 34,
   "metadata": {},
   "outputs": [],
   "source": [
    "sumBasicBLEU = 0\n",
    "for i in range(len(clean_summaries)):\n",
    "    for sentence in sumBasicSummary[i]:\n",
    "        sumBasicBLEU += sentence_bleu([word_tokenize(clean_summaries[i])], word_tokenize(str(sentence)), \n",
    "                                    smoothing_function=SmoothingFunction().method4)\n",
    "sumBasicBLEU = sumBasicBLEU / len(clean_summaries)"
   ]
  },
  {
   "cell_type": "code",
   "execution_count": 35,
   "metadata": {},
   "outputs": [],
   "source": [
    "sumBasicRouge = 0\n",
    "scorer = rouge_scorer.RougeScorer(['rougeL'], use_stemmer=True)\n",
    "for i in range(len(clean_summaries)):\n",
    "    for sentence in sumBasicSummary[i]:\n",
    "        sumBasicRouge += scorer.score(clean_summaries[i], str(sentence))['rougeL'][1]\n",
    "sumBasicRouge = sumBasicRouge / len(clean_summaries)"
   ]
  },
  {
   "cell_type": "markdown",
   "metadata": {},
   "source": [
    "## KL Summariser"
   ]
  },
  {
   "cell_type": "code",
   "execution_count": 36,
   "metadata": {},
   "outputs": [],
   "source": [
    "summarizer7 = KLSummarizer(Stemmer(language))\n",
    "summarizer7.stop_words = get_stop_words(language)\n",
    "klSummary = []\n",
    "for i in range(len(clean_texts)):\n",
    "    parser = PlaintextParser.from_string(clean_texts[i], Tokenizer(language))\n",
    "    klSummary.append(summarizer7(parser.document, sentence_count))"
   ]
  },
  {
   "cell_type": "code",
   "execution_count": 37,
   "metadata": {},
   "outputs": [],
   "source": [
    "klCosine = 0\n",
    "for i in range(len(clean_summaries)):\n",
    "    for sentence in klSummary[i]:\n",
    "        klCosine += cosine(clean_summaries[i], str(sentence))\n",
    "klCosine = klCosine/len(clean_summaries)"
   ]
  },
  {
   "cell_type": "code",
   "execution_count": 38,
   "metadata": {},
   "outputs": [],
   "source": [
    "klBLEU = 0\n",
    "for i in range(len(clean_summaries)):\n",
    "    for sentence in klSummary[i]:\n",
    "        klBLEU += sentence_bleu([word_tokenize(clean_summaries[i])], word_tokenize(str(sentence)), \n",
    "                                    smoothing_function=SmoothingFunction().method4)\n",
    "klBLEU = klBLEU / len(clean_summaries)"
   ]
  },
  {
   "cell_type": "code",
   "execution_count": 39,
   "metadata": {},
   "outputs": [],
   "source": [
    "klRouge = 0\n",
    "scorer = rouge_scorer.RougeScorer(['rougeL'], use_stemmer=True)\n",
    "for i in range(len(clean_summaries)):\n",
    "    for sentence in klSummary[i]:\n",
    "        klRouge += scorer.score(clean_summaries[i], str(sentence))['rougeL'][1]\n",
    "klRouge = klRouge / len(clean_summaries)"
   ]
  },
  {
   "cell_type": "markdown",
   "metadata": {},
   "source": [
    "## Reduction Summarizer"
   ]
  },
  {
   "cell_type": "code",
   "execution_count": 40,
   "metadata": {},
   "outputs": [],
   "source": [
    "summarizer8 = KLSummarizer(Stemmer(language))\n",
    "summarizer8.stop_words = get_stop_words(language)\n",
    "reductionSummary = []\n",
    "for i in range(len(clean_texts)):\n",
    "    parser = PlaintextParser.from_string(clean_texts[i], Tokenizer(language))\n",
    "    reductionSummary.append(summarizer8(parser.document, sentence_count))"
   ]
  },
  {
   "cell_type": "code",
   "execution_count": 41,
   "metadata": {},
   "outputs": [],
   "source": [
    "reductionCosine = 0\n",
    "for i in range(len(clean_summaries)):\n",
    "    for sentence in reductionSummary[i]:\n",
    "        reductionCosine += cosine(clean_summaries[i], str(sentence))\n",
    "reductionCosine = reductionCosine/len(clean_summaries)"
   ]
  },
  {
   "cell_type": "code",
   "execution_count": 42,
   "metadata": {},
   "outputs": [],
   "source": [
    "reductionBLEU = 0\n",
    "for i in range(len(clean_summaries)):\n",
    "    for sentence in reductionSummary[i]:\n",
    "        reductionBLEU += sentence_bleu([word_tokenize(clean_summaries[i])], word_tokenize(str(sentence)), \n",
    "                                    smoothing_function=SmoothingFunction().method4)\n",
    "reductionBLEU = reductionBLEU / len(clean_summaries)"
   ]
  },
  {
   "cell_type": "code",
   "execution_count": 43,
   "metadata": {},
   "outputs": [],
   "source": [
    "reductionRouge = 0\n",
    "scorer = rouge_scorer.RougeScorer(['rougeL'], use_stemmer=True)\n",
    "for i in range(len(clean_summaries)):\n",
    "    for sentence in reductionSummary[i]:\n",
    "        reductionRouge += scorer.score(clean_summaries[i], str(sentence))['rougeL'][1]\n",
    "reductionRouge = reductionRouge / len(clean_summaries)"
   ]
  },
  {
   "cell_type": "markdown",
   "metadata": {},
   "source": [
    "## Metrics"
   ]
  },
  {
   "cell_type": "code",
   "execution_count": 48,
   "metadata": {},
   "outputs": [
    {
     "data": {
      "text/html": [
       "<div>\n",
       "<style scoped>\n",
       "    .dataframe tbody tr th:only-of-type {\n",
       "        vertical-align: middle;\n",
       "    }\n",
       "\n",
       "    .dataframe tbody tr th {\n",
       "        vertical-align: top;\n",
       "    }\n",
       "\n",
       "    .dataframe thead th {\n",
       "        text-align: right;\n",
       "    }\n",
       "</style>\n",
       "<table border=\"1\" class=\"dataframe\">\n",
       "  <thead>\n",
       "    <tr style=\"text-align: right;\">\n",
       "      <th></th>\n",
       "      <th>Algorithms</th>\n",
       "      <th>Cosine similarity</th>\n",
       "      <th>BLEU (Precision)</th>\n",
       "      <th>Rouge (Recall)</th>\n",
       "    </tr>\n",
       "  </thead>\n",
       "  <tbody>\n",
       "    <tr>\n",
       "      <th>0</th>\n",
       "      <td>LexRank</td>\n",
       "      <td>0.293417</td>\n",
       "      <td>0.585683</td>\n",
       "      <td>0.345833</td>\n",
       "    </tr>\n",
       "    <tr>\n",
       "      <th>1</th>\n",
       "      <td>Luhn</td>\n",
       "      <td>0.290259</td>\n",
       "      <td>0.572869</td>\n",
       "      <td>0.345833</td>\n",
       "    </tr>\n",
       "    <tr>\n",
       "      <th>2</th>\n",
       "      <td>LSA</td>\n",
       "      <td>0.153057</td>\n",
       "      <td>0.273479</td>\n",
       "      <td>0.195833</td>\n",
       "    </tr>\n",
       "    <tr>\n",
       "      <th>3</th>\n",
       "      <td>TextRank</td>\n",
       "      <td>0.218051</td>\n",
       "      <td>0.482120</td>\n",
       "      <td>0.000000</td>\n",
       "    </tr>\n",
       "    <tr>\n",
       "      <th>4</th>\n",
       "      <td>Edmundson</td>\n",
       "      <td>0.184718</td>\n",
       "      <td>0.222018</td>\n",
       "      <td>0.245833</td>\n",
       "    </tr>\n",
       "    <tr>\n",
       "      <th>5</th>\n",
       "      <td>Sum Basic</td>\n",
       "      <td>0.127614</td>\n",
       "      <td>0.384546</td>\n",
       "      <td>0.183333</td>\n",
       "    </tr>\n",
       "    <tr>\n",
       "      <th>6</th>\n",
       "      <td>KL</td>\n",
       "      <td>0.174189</td>\n",
       "      <td>0.586473</td>\n",
       "      <td>0.195833</td>\n",
       "    </tr>\n",
       "    <tr>\n",
       "      <th>7</th>\n",
       "      <td>Reduction</td>\n",
       "      <td>0.174189</td>\n",
       "      <td>0.586473</td>\n",
       "      <td>0.195833</td>\n",
       "    </tr>\n",
       "  </tbody>\n",
       "</table>\n",
       "</div>"
      ],
      "text/plain": [
       "  Algorithms  Cosine similarity  BLEU (Precision)  Rouge (Recall)\n",
       "0    LexRank           0.293417          0.585683        0.345833\n",
       "1       Luhn           0.290259          0.572869        0.345833\n",
       "2        LSA           0.153057          0.273479        0.195833\n",
       "3   TextRank           0.218051          0.482120        0.000000\n",
       "4  Edmundson           0.184718          0.222018        0.245833\n",
       "5  Sum Basic           0.127614          0.384546        0.183333\n",
       "6         KL           0.174189          0.586473        0.195833\n",
       "7  Reduction           0.174189          0.586473        0.195833"
      ]
     },
     "execution_count": 48,
     "metadata": {},
     "output_type": "execute_result"
    }
   ],
   "source": [
    "metric = pd.DataFrame({\n",
    "    'Algorithms': ['LexRank', 'Luhn', 'LSA', 'TextRank', 'Edmundson', 'Sum Basic', 'KL', 'Reduction'],\n",
    "    'Cosine similarity': [lexRankCosine, luhnCosine, lsaCosine, textRankCosine, edmundsonCosine, sumBasicCosine, klCosine, reductionCosine],\n",
    "    'BLEU (Precision)': [lexRankBLEU, luhnBLEU, lsaBLEU, textRankBLEU, edmundsonBLEU, sumBasicBLEU, klBLEU, reductionBLEU],\n",
    "    'Rouge (Recall)': [lexRankRouge, luhnRouge, lsaRouge, textRankRouge, edmundsonRouge, sumBasicRouge, klRouge, reductionRouge],\n",
    "\n",
    "})\n",
    "metric"
   ]
  },
  {
   "cell_type": "code",
   "execution_count": 49,
   "metadata": {},
   "outputs": [
    {
     "data": {
      "text/plain": [
       "(array([0, 1, 2, 3, 4, 5, 6, 7]), <a list of 8 Text major ticklabel objects>)"
      ]
     },
     "execution_count": 49,
     "metadata": {},
     "output_type": "execute_result"
    },
    {
     "data": {
      "image/png": "[encoded data removed]",
      "text/plain": [
       "<Figure size 432x288 with 1 Axes>"
      ]
     },
     "metadata": {
      "needs_background": "light"
     },
     "output_type": "display_data"
    }
   ],
   "source": [
    "metric.plot(x='Algorithms', kind='bar')\n",
    "plt.xticks(rotation=90)"
   ]
  },
  {
   "cell_type": "code",
   "execution_count": 50,
   "metadata": {},
   "outputs": [
    {
     "data": {
      "text/plain": [
       "(array([-1.,  0.,  1.,  2.,  3.,  4.,  5.,  6.,  7.,  8.]),\n",
       " <a list of 10 Text major ticklabel objects>)"
      ]
     },
     "execution_count": 50,
     "metadata": {},
     "output_type": "execute_result"
    },
    {
     "data": {
      "image/png": "[encoded data removed]",
      "text/plain": [
       "<Figure size 432x288 with 1 Axes>"
      ]
     },
     "metadata": {
      "needs_background": "light"
     },
     "output_type": "display_data"
    }
   ],
   "source": [
    "metric.plot(x='Algorithms', kind='line')\n",
    "plt.xticks(rotation=90)"
   ]
  },
  {
   "cell_type": "code",
   "execution_count": null,
   "metadata": {},
   "outputs": [],
   "source": []
  }
 ],
 "metadata": {
  "kernelspec": {
   "display_name": "Python 3",
   "language": "python",
   "name": "python3"
  },
  "language_info": {
   "codemirror_mode": {
    "name": "ipython",
    "version": 3
   },
   "file_extension": ".py",
   "mimetype": "text/x-python",
   "name": "python",
   "nbconvert_exporter": "python",
   "pygments_lexer": "ipython3",
   "version": "3.7.6"
  }
 },
 "nbformat": 4,
 "nbformat_minor": 4
}
